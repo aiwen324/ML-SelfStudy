{
 "cells": [
  {
   "cell_type": "code",
   "execution_count": 16,
   "metadata": {},
   "outputs": [],
   "source": [
    "import numpy as np\n",
    "import matplotlib as plt\n",
    "\n",
    "class coin_model:\n",
    "    def __init__(self, p, q):\n",
    "        self.coins_H_p = [p, q]\n",
    "    \n",
    "    def throw_coin(self, coin_num):\n",
    "        p = self.coins_H_p[coin_num]\n",
    "        val = np.random.random()\n",
    "        if val <= p:\n",
    "            return 1\n",
    "        return 0\n",
    "    \n",
    "    \"\"\" Generate the sample data for the current distribution.\n",
    "    \"\"\"\n",
    "    def generate_sample(self, times, default_per_times=10):\n",
    "        sample = np.zeros((times, default_per_times+1))\n",
    "        for i in range(times):\n",
    "            a = 0 if np.random.random() <= 0.5 else 1\n",
    "            for j in range(default_per_times+1):\n",
    "                sample[i][j] = self.throw_coin(a)\n",
    "            sample[i][default_per_times] = a\n",
    "        return sample"
   ]
  },
  {
   "cell_type": "markdown",
   "metadata": {},
   "source": [
    "The following is just a test for the result from above.  \n",
    "The last column indicate which coin we are throwing."
   ]
  },
  {
   "cell_type": "code",
   "execution_count": 17,
   "metadata": {},
   "outputs": [
    {
     "name": "stdout",
     "output_type": "stream",
     "text": [
      "[[0. 1. 1. 1. 0. 1. 1. 0. 0. 0. 1.]\n",
      " [1. 0. 1. 0. 1. 1. 1. 1. 1. 0. 1.]\n",
      " [1. 1. 0. 1. 1. 1. 0. 0. 1. 0. 1.]\n",
      " [1. 0. 1. 0. 1. 0. 0. 1. 0. 1. 0.]\n",
      " [1. 0. 1. 0. 0. 0. 1. 1. 1. 0. 0.]\n",
      " [0. 0. 0. 0. 0. 1. 0. 1. 1. 0. 0.]]\n"
     ]
    }
   ],
   "source": [
    "c = coin_model(0.3, 0.6)\n",
    "sample = c.generate_sample(6)\n",
    "print(sample)"
   ]
  },
  {
   "cell_type": "markdown",
   "metadata": {},
   "source": [
    "Now, we want to apply the EM Algorithm to this model. We want to guess the p(H|coin=0) and p(H|coin=1). But imagine if we don't konw which coin we are throwing each row, then we have to guess."
   ]
  },
  {
   "cell_type": "markdown",
   "metadata": {},
   "source": [
    "According to the EM Algorithm, we want to maximize $$\\mathcal{l}(x|\\theta) = \\log P(x|\\theta)$$  \n",
    "By definition, we can see that\n",
    "\\begin{align*}\n",
    "\\log P(x|\\theta) \n",
    "&= \\log \\prod_{i=1}^m P(x_i|\\theta)\\\\\n",
    "&= \\sum_{i=1}^m \\log P(x_i|\\theta)\\\\\n",
    "&= \\sum_{i=1}^m \\log \\sum_c P(x_i, c|\\theta)\\\\\n",
    "&= \\sum_{i=1}^m \\log \\sum_c Q_i(c)\\cdot \\frac{P(x_i, c|\\theta)}{Q_i(c)}\\\\\n",
    "&\\geq \\sum_{i=1}^m \\sum_c Q_i(c) \\log \\frac{P(x_i, c|\\theta)}{Q_i(c)} \\quad\\text{By $\\log(E(x))\\geq E(\\log(x))$}\n",
    "\\end{align*}\n",
    "Now, consider $\\frac{P(x_i, c|\\theta)}{Q_i(c)}$, if we can make it be a function that isn't influenced by c, we would have the equality. So let $Q_i(c)=P(c|x_i,\\theta)$, we can see that $$\\frac{P(x_i, c|\\theta)}{Q_i(c)} = P(x_i|\\theta)$$\n",
    "We can use the Bayes' Rule to calculate $Q_i(c)$\n",
    "\\begin{align*}\n",
    "Q_i(c)\n",
    "&= P(c|x_i,\\theta)\\\\\n",
    "&= \\frac{P(c, x_i|\\theta)}{P(x_i)}\\\\\n",
    "&= \\frac{P(c, x_i|\\theta)}{\\sum_c P(x_i, c|\\theta)}\\\\\n",
    "&= \\frac{P(x_i|c, \\theta)P(c|\\theta)}{\\sum_c P(x_i|c, \\theta)P(c|\\theta)}\n",
    "\\end{align*}"
   ]
  }
 ],
 "metadata": {
  "kernelspec": {
   "display_name": "Python 3",
   "language": "python",
   "name": "python3"
  },
  "language_info": {
   "codemirror_mode": {
    "name": "ipython",
    "version": 3
   },
   "file_extension": ".py",
   "mimetype": "text/x-python",
   "name": "python",
   "nbconvert_exporter": "python",
   "pygments_lexer": "ipython3",
   "version": "3.7.0"
  }
 },
 "nbformat": 4,
 "nbformat_minor": 2
}
