{
 "cells": [
  {
   "cell_type": "code",
   "execution_count": 1,
   "metadata": {},
   "outputs": [],
   "source": [
    "import numpy as np\n",
    "import matplotlib as plt\n",
    "\n",
    "class coin_model:\n",
    "    def __init__(self, p, q):\n",
    "        self.coins_H_p = [p, q]\n",
    "    def throw_coin(self, coin_num):\n",
    "        p = self.coins_H_p[coin_num]\n",
    "        val = np.random.random()\n",
    "        if val <= p:\n",
    "            return 1\n",
    "        return 0\n",
    "    \"\"\" Generate the sample data for the current distribution.\n",
    "    \"\"\"\n",
    "    def generate_sample(self, times, default_per_times=10):\n",
    "        sample = np.zeros((times, default_per_times+1), dtype=int)\n",
    "        for i in range(times):\n",
    "            a = 0 if np.random.random() <= 0.5 else 1\n",
    "            for j in range(default_per_times+1):\n",
    "                sample[i][j] = self.throw_coin(a)\n",
    "            sample[i][default_per_times] = a\n",
    "        return sample"
   ]
  },
  {
   "cell_type": "markdown",
   "metadata": {},
   "source": [
    "The following is just a test for the result from above.  \n",
    "The last column indicate which coin we are throwing."
   ]
  },
  {
   "cell_type": "code",
   "execution_count": 2,
   "metadata": {
    "scrolled": true
   },
   "outputs": [
    {
     "name": "stdout",
     "output_type": "stream",
     "text": [
      "[[0 1 0 ... 0 0 0]\n",
      " [0 1 0 ... 0 1 1]\n",
      " [0 0 0 ... 1 0 1]\n",
      " ...\n",
      " [1 0 1 ... 0 1 1]\n",
      " [0 0 0 ... 1 1 1]\n",
      " [1 0 1 ... 1 0 0]]\n"
     ]
    }
   ],
   "source": [
    "c = coin_model(0.3, 0.6)\n",
    "sample = c.generate_sample(1000)\n",
    "# print(sample)\n",
    "em_sample = sample[:, :-1]\n",
    "print(em_sample)\n",
    "\n",
    "# em_sample.shape"
   ]
  },
  {
   "cell_type": "markdown",
   "metadata": {},
   "source": [
    "Now, we want to apply the EM Algorithm to this model. We want to guess the p(H|coin=0) and p(H|coin=1). But imagine if we don't konw which coin we are throwing each row, then we have to guess.\n",
    "\n",
    "According to the EM Algorithm, we want to maximize $$\\mathcal{l}(x|\\theta) = \\log P(x|\\theta)$$  \n",
    "By definition, we can see that\n",
    "\\begin{align*}\n",
    "\\log P(x|\\theta)\n",
    "&= \\log \\prod_{i=1}^m P(x_i|\\theta)\\\\\n",
    "&= \\sum_{i=1}^m \\log P(x_i|\\theta)\\\\\n",
    "&= \\sum_{i=1}^m \\log \\sum_c P(x_i, c|\\theta)\\\\\n",
    "&= \\sum_{i=1}^m \\log \\sum_c Q_i(c)\\cdot \\frac{P(x_i, c|\\theta)}{Q_i(c)}\\\\\n",
    "&\\geq \\sum_{i=1}^m \\sum_c Q_i(c) \\log \\frac{P(x_i, c|\\theta)}{Q_i(c)} \\quad\\text{By $\\log(E(x))\\geq E(\\log(x))$}\n",
    "\\end{align*}\n",
    "Now, consider $\\frac{P(x_i, c|\\theta)}{Q_i(c)}$, if we can make it be a function that isn't influenced by c, we would have the equality. So let $Q_i(c)=P(c|x_i,\\theta)$, we can see that $$\\frac{P(x_i, c|\\theta)}{Q_i(c)} = P(x_i|\\theta)$$\n",
    "We can use the Bayes' Rule to calculate $Q_i(c)$\n",
    "\\begin{align*}\n",
    "Q_i(c)\n",
    "&= P(c|x_i,\\theta)\\\\\n",
    "&= \\frac{P(c, x_i|\\theta)}{P(x_i)}\\\\\n",
    "&= \\frac{P(c, x_i|\\theta)}{\\sum_c P(x_i, c|\\theta)}\\\\\n",
    "&= \\frac{P(x_i|c, \\theta)P(c|\\theta)}{\\sum_c P(x_i|c, \\theta)P(c|\\theta)}\n",
    "\\end{align*}\n",
    "The above is called E step\n",
    "\n",
    "Now, for the M step, we just want to maximize the function $F(\\theta)$: \n",
    "\\begin{align*}\n",
    "\\sum_{i=1}^m \\sum_c Q_i(c) \\log \\frac{P(x_i, c|\\theta)}{Q_i(c)}\n",
    "&= \\sum_{i=1}^m \\sum_c Q_i(c) \\log \\frac{P(x_i|c,\\theta)P(c|\\theta)}{Q_i(c)}\\\\\n",
    "&= \\sum_{i=1}^m \\sum_c Q_i(c) \\log \\frac{P(H|c;\\theta)^{n_i(H)}P(T|c;\\theta)^{n_i(T)}P(c|\\theta)}{Q_i(c)}\n",
    "\\end{align*}\n",
    "We also have the following restriction:\n",
    "\\begin{align*}\n",
    "P(H|c,\\theta) + P(T|c,\\theta) = 1\n",
    "\\end{align*}\n",
    "\n",
    "Then By Lagrange Theorem, we would have\n",
    "\\begin{align*}\n",
    "\\nabla F_{P(H|c;\\theta)} &= \\sum_{i=1}^m \\frac{Q_i(c)n_i(H)}{P(H|c;\\theta)}\\\\\n",
    "\\nabla F_{P(T|c;\\theta)} &= \\sum_{i=1}^m \\frac{Q_i(c)n_i(T)}{P(T|c;\\theta)}\\\\\n",
    "\\begin{bmatrix}\n",
    "\\nabla F_{P(H|c;\\theta)}\\\\\n",
    "\\nabla F_{P(T|c;\\theta)}\n",
    "\\end{bmatrix}\n",
    "&=\n",
    "\\begin{bmatrix}\n",
    "\\lambda\\\\\n",
    "\\lambda\n",
    "\\end{bmatrix}\n",
    "\\end{align*}\n",
    "Then we will have\n",
    "\\begin{align*}\n",
    "P(H|c;\\theta), P(T|c;\\theta) &= \\sum_{i=1}^m\\frac{Q_i(c)n_i(H)}{\\lambda}, \\sum_{i=1}^m\\frac{Q_i(c)n_i(T)}{\\lambda}\\\\\n",
    "\\sum_{i=1}^m\\frac{Q_i(c)n_i(H)}{\\lambda} + \\sum_{i=1}^m\\frac{Q_i(c)n_i(T)}{\\lambda} &= 1\\\\\n",
    "\\lambda &= \\sum_{i=1}^m Q_i(c)n_i(H) + \\sum_{i=1}^m Q_i(c)n_i(T)\n",
    "\\end{align*}"
   ]
  },
  {
   "cell_type": "code",
   "execution_count": 3,
   "metadata": {},
   "outputs": [
    {
     "data": {
      "text/plain": [
       "array([[1, 2, 3, 4, 5, 6]])"
      ]
     },
     "execution_count": 3,
     "metadata": {},
     "output_type": "execute_result"
    }
   ],
   "source": [
    "a = np.array([[1, 2, 3]])\n",
    "b = np.array([[4, 5, 6]])\n",
    "np.hstack((a, b))"
   ]
  },
  {
   "cell_type": "code",
   "execution_count": 4,
   "metadata": {},
   "outputs": [],
   "source": [
    "\"\"\"\n",
    "Return a nxm array, n represents the times of experiments, m is the number of coins   \n",
    "\"\"\"\n",
    "def E_Step(theta, sample):\n",
    "    exp_times, per_exp_times = sample.shape\n",
    "    per_exp_times = np.array([per_exp_times for i in range(exp_times)])\n",
    "    h_times = np.sum(sample, axis=1)\n",
    "#     print(\"per_exp_times is: {}\\nh_times is: {}\".format(per_exp_times, h_times))\n",
    "    p_0_H, p_1_H = theta\n",
    "    p_x_0 = (p_0_H**h_times) * ((1-p_0_H)**(per_exp_times-h_times))\n",
    "    p_x_1 = (p_1_H**h_times) * ((1-p_1_H)**(per_exp_times-h_times))\n",
    "    # Notice here we assume P(c|theta) be 0.5, then we can just ignore this in Q_i(c)\n",
    "    Q_0 = p_x_0 / (p_x_0 + p_x_1)\n",
    "    Q_1 = p_x_1 / (p_x_0 + p_x_1)\n",
    "    Q = np.vstack((Q_0, Q_1)).T\n",
    "    return Q\n",
    "\n",
    "\"\"\"\n",
    "Update theta\n",
    "\"\"\"\n",
    "def M_Step(Q, sample):\n",
    "    exp_times, per_exp_times = sample.shape\n",
    "    per_exp_times = np.array([per_exp_times for i in range(exp_times)])\n",
    "    h_times = np.sum(sample, axis=1)\n",
    "    t_times = per_exp_times - h_times\n",
    "    h_times = np.vstack((h_times, h_times)).T\n",
    "    t_times = np.vstack((t_times, t_times)).T\n",
    "    Q_c_n_H = np.multiply(Q, h_times)\n",
    "    Q_c_n_T = np.multiply(Q, t_times)\n",
    "    sum_Q_c_n_H = np.sum(Q_c_n_H, axis=0)\n",
    "    sum_Q_c_n_T = np.sum(Q_c_n_T, axis=0)\n",
    "    P_H_c = sum_Q_c_n_H / (sum_Q_c_n_H + sum_Q_c_n_T)\n",
    "    return P_H_c"
   ]
  },
  {
   "cell_type": "code",
   "execution_count": 5,
   "metadata": {},
   "outputs": [
    {
     "name": "stdout",
     "output_type": "stream",
     "text": [
      "[0.30795467 0.60455125]\n"
     ]
    }
   ],
   "source": [
    "theta = [0.2, 0.3]\n",
    "d = 1\n",
    "while d > 0.000000000000000000001:\n",
    "    Q = E_Step(theta, em_sample)\n",
    "    theta_prev = theta\n",
    "    theta = M_Step(Q, em_sample)\n",
    "    d = np.linalg.norm(theta - theta_prev)\n",
    "print(theta)"
   ]
  }
 ],
 "metadata": {
  "kernelspec": {
   "display_name": "Python 3",
   "language": "python",
   "name": "python3"
  },
  "language_info": {
   "codemirror_mode": {
    "name": "ipython",
    "version": 3
   },
   "file_extension": ".py",
   "mimetype": "text/x-python",
   "name": "python",
   "nbconvert_exporter": "python",
   "pygments_lexer": "ipython3",
   "version": "3.7.0"
  }
 },
 "nbformat": 4,
 "nbformat_minor": 2
}
