{
 "cells": [
  {
   "cell_type": "code",
   "execution_count": 3,
   "metadata": {},
   "outputs": [],
   "source": [
    "import math\n",
    "import time\n",
    "\n",
    "from tqdm import tqdm\n",
    "import torch\n",
    "import torch.nn.functional as F\n",
    "import torch.optim as optim\n",
    "import torch.utils.data\n"
   ]
  },
  {
   "cell_type": "code",
   "execution_count": 9,
   "metadata": {},
   "outputs": [],
   "source": [
    "def cal_performance(pred, tgt, smoothing=False):\n",
    "    loss = cal_loss(pred, tgt, smoothing)\n",
    "    pred = pred.max(1)[1]\n",
    "    tgt = tgt.contiguous().view(-1)\n",
    "    non_pad_mask = tgt.ne(Constants.PAD)\n",
    "    n_correct = pred.eq(tgt)\n",
    "    n_correct = n_correct.masked_select(non_pad_mask).sum().item()\n",
    "    return loss, n_correct\n",
    "\n",
    "def cal_loss(pred, tgt, smoothing):\n",
    "    gold = gold.contiguous().view(-1)\n",
    "    if smoothing:\n",
    "        eps = 0.1\n",
    "        n_class = pred.size(1)\n",
    "        \n",
    "        one_hot = torch.zeros_like(pred).scatter(1, tgt.view(-1, 1), 1)\n",
    "        one_hot = one_hot * (1-eps) + (1-one_hot) * eps\n",
    "        log_prb = F.log_softmax(pred, dim=1)\n",
    "        \n",
    "        non_pad_mask = tgt.ne(Constants.PAD)\n",
    "        loss = -(one_hot*log_prb).sum(dim=1)\n",
    "        loss = loss.masked_select(non_pad_mask).sum()\n",
    "    else:\n",
    "        loss = F.cross_entropy(pred, tgt, ignore_index=Constants.PAD)\n",
    "\n",
    "def train_epoch(model, training_data, optimizer, device, smoothing=False):\n",
    "    model.train()\n",
    "    \n",
    "    \n",
    "    total_loss = 0\n",
    "    n_word_total = 0\n",
    "    n_word_correct = 0\n",
    "    for batch in tqdm(training_data, mininterval=2,\n",
    "            desc='  - (Training)   ', leave=False):\n",
    "        src_seq, tgt_seq = map(lambda x: x.to(device), batch)\n",
    "    \n",
    "        tgt = tgt_seq[:, 1:]\n",
    "\n",
    "        # forward\n",
    "        optimizer.zeros_grad()\n",
    "        pred = model(src_seq)\n",
    "\n",
    "        # backward\n",
    "        loss, n_correct = cal_performance(pred, tgt, smoothing)\n",
    "        loss.backward()\n",
    "\n",
    "        # update parameter\n",
    "        optimizer.step()\n",
    "        \n",
    "        total_loss += loss.item()\n",
    "        \n",
    "        non_pad_mask = tgt.ne(Constants.PAD)\n",
    "        n_word = non_pad_mask.sum().item()\n",
    "        n_word_total += n_word\n",
    "        n_word_correct += n_correct\n",
    "        \n",
    "    loss_per_word = total_loss/n_word_total\n",
    "    accuracy = n_word_correct/n_word_total\n",
    "    return loss_per_word, accuracy\n",
    "    \n",
    "\n",
    "def eval_epoch(model, validation_data, optimizer, device):\n",
    "    model.eval()\n",
    "\n",
    "    total_loss = 0\n",
    "    n_word_total = 0\n",
    "    n_word_correct = 0\n",
    "\n",
    "    with torch.no_grad():\n",
    "        for batch in tqdm(\n",
    "                validation_data, mininterval=2,\n",
    "                desc='  - (Validation) ', leave=False):\n",
    "\n",
    "            # prepare data\n",
    "            src_seq, src_pos, tgt_seq, tgt_pos = map(lambda x: x.to(device), batch)\n",
    "            tgt = tgt_seq[:, 1:]\n",
    "\n",
    "            # forward\n",
    "            pred = model(src_seq)\n",
    "            loss, n_correct = cal_performance(pred, tgt, smoothing=False)\n",
    "\n",
    "            # note keeping\n",
    "            total_loss += loss.item()\n",
    "\n",
    "            non_pad_mask = gold.ne(Constants.PAD)\n",
    "            n_word = non_pad_mask.sum().item()\n",
    "            n_word_total += n_word\n",
    "            n_word_correct += n_correct\n",
    "\n",
    "    loss_per_word = total_loss/n_word_total\n",
    "    accuracy = n_word_correct/n_word_total\n",
    "    return loss_per_word, accuracy\n",
    "    \n",
    "    \n",
    "def train(model, training_data, validation_data, optimizer, device, opt):\n",
    "    valid_accus = []\n",
    "    for epoch_i in range(opt['epoch']):\n",
    "        print('[ Epoch', epoch_i, ']')\n",
    "\n",
    "        start = time.time()\n",
    "        train_loss, train_accu = train_epoch(\n",
    "            model, training_data, optimizer, device, smoothing=opt['label_smoothing'])\n",
    "        print('  - (Training)   ppl: {ppl: 8.5f}, accuracy: {accu:3.3f} %, '\\\n",
    "              'elapse: {elapse:3.3f} min'.format(\n",
    "                  ppl=math.exp(min(train_loss, 100)), accu=100*train_accu,\n",
    "                  elapse=(time.time()-start)/60))\n",
    "\n",
    "        start = time.time()\n",
    "        valid_loss, valid_accu = eval_epoch(model, validation_data, device)\n",
    "        print('  - (Validation) ppl: {ppl: 8.5f}, accuracy: {accu:3.3f} %, '\\\n",
    "                'elapse: {elapse:3.3f} min'.format(\n",
    "                    ppl=math.exp(min(valid_loss, 100)), accu=100*valid_accu,\n",
    "                    elapse=(time.time()-start)/60))\n",
    "\n",
    "        valid_accus += [valid_accu]\n",
    "\n",
    "        model_state_dict = model.state_dict()\n",
    "        checkpoint = {\n",
    "            'model': model_state_dict,\n",
    "            'settings': opt,\n",
    "            'epoch': epoch_i}\n",
    "        if opt['save_model']:\n",
    "            if opt['save_mode'] == 'all':\n",
    "                model_name = opt['save_model'] + '_accu_{accu:3.3f}.chkpt'.format(accu=100*valid_accu)\n",
    "                torch.save(checkpoint, model_name)\n",
    "            elif opt['save_mode'] == 'best':\n",
    "                model_name = opt['save_model'] + '.chkpt'\n",
    "                if valid_accu >= max(valid_accus):\n",
    "                    torch.save(checkpoint, model_name)\n",
    "                    print('    - [Info] The checkpoint file has been updated.')\n",
    "\n",
    "#         if log_train_file and log_valid_file:\n",
    "#             with open(log_train_file, 'a') as log_tf, open(log_valid_file, 'a') as log_vf:\n",
    "#                 log_tf.write('{epoch},{loss: 8.5f},{ppl: 8.5f},{accu:3.3f}\\n'.format(\n",
    "#                     epoch=epoch_i, loss=train_loss,\n",
    "#                     ppl=math.exp(min(train_loss, 100)), accu=100*train_accu))\n",
    "#                 log_vf.write('{epoch},{loss: 8.5f},{ppl: 8.5f},{accu:3.3f}\\n'.format(\n",
    "#                     epoch=epoch_i, loss=valid_loss,\n",
    "#                     ppl=math.exp(min(valid_loss, 100)), accu=100*valid_accu))"
   ]
  },
  {
   "cell_type": "code",
   "execution_count": null,
   "metadata": {},
   "outputs": [],
   "source": [
    "transformer = Transformer(d_word_embedding=, d_h=, d_s=,\n",
    "                          src_vocab_size=, tgt_vocab_size=)\n",
    "data = torch.load()\n",
    "opt = {'smoothing':False, 'save_model':False}\n",
    "train(transformer, training_data, validation_data, optimizer, device, opt)\n"
   ]
  },
  {
   "cell_type": "code",
   "execution_count": 42,
   "metadata": {},
   "outputs": [],
   "source": [
    "x = torch.zeros(3, 5)"
   ]
  },
  {
   "cell_type": "code",
   "execution_count": 43,
   "metadata": {},
   "outputs": [
    {
     "data": {
      "text/plain": [
       "tensor([[0., 0., 0., 0., 0.],\n",
       "        [0., 0., 0., 0., 0.],\n",
       "        [0., 0., 0., 0., 0.]])"
      ]
     },
     "execution_count": 43,
     "metadata": {},
     "output_type": "execute_result"
    }
   ],
   "source": [
    "x."
   ]
  },
  {
   "cell_type": "code",
   "execution_count": 48,
   "metadata": {
    "scrolled": true
   },
   "outputs": [
    {
     "data": {
      "text/plain": [
       "tensor([[[0., 0., 0., 0., 0.],\n",
       "         [0., 0., 0., 0., 0.],\n",
       "         [0., 0., 0., 0., 0.],\n",
       "         [0., 0., 0., 0., 0.],\n",
       "         [0., 0., 0., 0., 0.],\n",
       "         [0., 0., 0., 0., 0.],\n",
       "         [0., 0., 0., 0., 0.],\n",
       "         [0., 0., 0., 0., 0.],\n",
       "         [0., 0., 0., 0., 0.],\n",
       "         [0., 0., 0., 0., 0.]],\n",
       "\n",
       "        [[0., 0., 0., 0., 0.],\n",
       "         [0., 0., 0., 0., 0.],\n",
       "         [0., 0., 0., 0., 0.],\n",
       "         [0., 0., 0., 0., 0.],\n",
       "         [0., 0., 0., 0., 0.],\n",
       "         [0., 0., 0., 0., 0.],\n",
       "         [0., 0., 0., 0., 0.],\n",
       "         [0., 0., 0., 0., 0.],\n",
       "         [0., 0., 0., 0., 0.],\n",
       "         [0., 0., 0., 0., 0.]],\n",
       "\n",
       "        [[0., 0., 0., 0., 0.],\n",
       "         [0., 0., 0., 0., 0.],\n",
       "         [0., 0., 0., 0., 0.],\n",
       "         [0., 0., 0., 0., 0.],\n",
       "         [0., 0., 0., 0., 0.],\n",
       "         [0., 0., 0., 0., 0.],\n",
       "         [0., 0., 0., 0., 0.],\n",
       "         [0., 0., 0., 0., 0.],\n",
       "         [0., 0., 0., 0., 0.],\n",
       "         [0., 0., 0., 0., 0.]]])"
      ]
     },
     "execution_count": 48,
     "metadata": {},
     "output_type": "execute_result"
    }
   ],
   "source": [
    "x.view(3, -1, 5).expand(3, 10, 5)"
   ]
  },
  {
   "cell_type": "code",
   "execution_count": 1,
   "metadata": {},
   "outputs": [
    {
     "data": {
      "text/plain": [
       "array([5, 0, 2, 1, 3, 4])"
      ]
     },
     "execution_count": 1,
     "metadata": {},
     "output_type": "execute_result"
    }
   ],
   "source": [
    "import numpy as np\n",
    "indices = np.arange(6)\n",
    "np.random.shuffle(indices)\n",
    "indices"
   ]
  },
  {
   "cell_type": "code",
   "execution_count": null,
   "metadata": {},
   "outputs": [],
   "source": []
  }
 ],
 "metadata": {
  "kernelspec": {
   "display_name": "Python 3",
   "language": "python",
   "name": "python3"
  },
  "language_info": {
   "codemirror_mode": {
    "name": "ipython",
    "version": 3
   },
   "file_extension": ".py",
   "mimetype": "text/x-python",
   "name": "python",
   "nbconvert_exporter": "python",
   "pygments_lexer": "ipython3",
   "version": "3.7.1"
  }
 },
 "nbformat": 4,
 "nbformat_minor": 2
}
